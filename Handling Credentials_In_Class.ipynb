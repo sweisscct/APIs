{
 "cells": [
  {
   "cell_type": "markdown",
   "id": "a7742620",
   "metadata": {},
   "source": [
    "## Environment Variables - .env"
   ]
  },
  {
   "cell_type": "code",
   "execution_count": 1,
   "id": "54ffd020",
   "metadata": {},
   "outputs": [
    {
     "name": "stdout",
     "output_type": "stream",
     "text": [
      "Requirement already satisfied: python-dotenv in c:\\users\\lecturer\\anaconda3\\lib\\site-packages (0.21.0)\n"
     ]
    }
   ],
   "source": [
    "!pip install python-dotenv"
   ]
  },
  {
   "cell_type": "code",
   "execution_count": 2,
   "id": "e5b542d1",
   "metadata": {},
   "outputs": [],
   "source": [
    "from dotenv import load_dotenv\n",
    "from os import getenv"
   ]
  },
  {
   "cell_type": "code",
   "execution_count": 4,
   "id": "de13f4b2",
   "metadata": {},
   "outputs": [
    {
     "name": "stdout",
     "output_type": "stream",
     "text": [
      "pda-2023\n"
     ]
    }
   ],
   "source": [
    "load_dotenv()\n",
    "\n",
    "APP_NAME = getenv(\"APP_NAME\") # APP_NAME = pda-2023\n",
    "print(APP_NAME)"
   ]
  },
  {
   "cell_type": "code",
   "execution_count": null,
   "id": "a17d2e25",
   "metadata": {},
   "outputs": [],
   "source": []
  }
 ],
 "metadata": {
  "kernelspec": {
   "display_name": "Python 3 (ipykernel)",
   "language": "python",
   "name": "python3"
  },
  "language_info": {
   "codemirror_mode": {
    "name": "ipython",
    "version": 3
   },
   "file_extension": ".py",
   "mimetype": "text/x-python",
   "name": "python",
   "nbconvert_exporter": "python",
   "pygments_lexer": "ipython3",
   "version": "3.9.12"
  }
 },
 "nbformat": 4,
 "nbformat_minor": 5
}
