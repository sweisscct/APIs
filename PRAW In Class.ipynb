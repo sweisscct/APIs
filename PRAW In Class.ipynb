{
 "cells": [
  {
   "cell_type": "markdown",
   "id": "2b109ce1",
   "metadata": {},
   "source": [
    "### Python Reddit API Wrapper"
   ]
  },
  {
   "cell_type": "code",
   "execution_count": 1,
   "id": "1da28349",
   "metadata": {
    "collapsed": true
   },
   "outputs": [
    {
     "name": "stdout",
     "output_type": "stream",
     "text": [
      "Requirement already satisfied: praw in c:\\users\\lecturer\\anaconda3\\lib\\site-packages (7.7.1)\n",
      "Requirement already satisfied: prawcore<3,>=2.1 in c:\\users\\lecturer\\anaconda3\\lib\\site-packages (from praw) (2.4.0)\n",
      "Requirement already satisfied: websocket-client>=0.54.0 in c:\\users\\lecturer\\anaconda3\\lib\\site-packages (from praw) (0.58.0)\n",
      "Requirement already satisfied: update-checker>=0.18 in c:\\users\\lecturer\\anaconda3\\lib\\site-packages (from praw) (0.18.0)\n",
      "Requirement already satisfied: requests<3.0,>=2.6.0 in c:\\users\\lecturer\\anaconda3\\lib\\site-packages (from prawcore<3,>=2.1->praw) (2.31.0)\n",
      "Requirement already satisfied: urllib3<3,>=1.21.1 in c:\\users\\lecturer\\anaconda3\\lib\\site-packages (from requests<3.0,>=2.6.0->prawcore<3,>=2.1->praw) (1.26.9)\n",
      "Requirement already satisfied: charset-normalizer<4,>=2 in c:\\users\\lecturer\\anaconda3\\lib\\site-packages (from requests<3.0,>=2.6.0->prawcore<3,>=2.1->praw) (2.0.4)\n",
      "Requirement already satisfied: certifi>=2017.4.17 in c:\\users\\lecturer\\anaconda3\\lib\\site-packages (from requests<3.0,>=2.6.0->prawcore<3,>=2.1->praw) (2022.9.24)\n",
      "Requirement already satisfied: idna<4,>=2.5 in c:\\users\\lecturer\\anaconda3\\lib\\site-packages (from requests<3.0,>=2.6.0->prawcore<3,>=2.1->praw) (2.10)\n",
      "Requirement already satisfied: six in c:\\users\\lecturer\\anaconda3\\lib\\site-packages (from websocket-client>=0.54.0->praw) (1.16.0)\n"
     ]
    }
   ],
   "source": [
    "!pip install praw"
   ]
  },
  {
   "cell_type": "code",
   "execution_count": 4,
   "id": "3d10be15",
   "metadata": {},
   "outputs": [],
   "source": [
    "import praw\n",
    "import pandas as pd\n",
    "from datetime import datetime as dt\n",
    "from dotenv import load_dotenv\n",
    "from os import getenv"
   ]
  },
  {
   "cell_type": "code",
   "execution_count": 5,
   "id": "a4b53e3f",
   "metadata": {},
   "outputs": [
    {
     "data": {
      "text/plain": [
       "True"
      ]
     },
     "execution_count": 5,
     "metadata": {},
     "output_type": "execute_result"
    }
   ],
   "source": [
    "load_dotenv()"
   ]
  },
  {
   "cell_type": "code",
   "execution_count": 9,
   "id": "8e2ed468",
   "metadata": {},
   "outputs": [],
   "source": [
    "reddit = praw.Reddit(\n",
    "    client_id=getenv(\"APP_ID\"),\n",
    "    client_secret=getenv(\"APP_SECRET\"),\n",
    "    user_agent=f\"{getenv('APP_NAME')} u/{getenv('REDDIT_USERNAME')}\",\n",
    ")"
   ]
  },
  {
   "cell_type": "code",
   "execution_count": 10,
   "id": "768bfd9a",
   "metadata": {},
   "outputs": [
    {
     "name": "stdout",
     "output_type": "stream",
     "text": [
      "True\n"
     ]
    }
   ],
   "source": [
    "print(reddit.read_only)"
   ]
  },
  {
   "cell_type": "code",
   "execution_count": 35,
   "id": "20869174",
   "metadata": {},
   "outputs": [],
   "source": [
    "subreddit = reddit.subreddit(\"Ireland\")"
   ]
  },
  {
   "cell_type": "code",
   "execution_count": 12,
   "id": "71975a90",
   "metadata": {},
   "outputs": [
    {
     "name": "stdout",
     "output_type": "stream",
     "text": [
      "dataanalysis\n"
     ]
    }
   ],
   "source": [
    "print(subreddit.display_name)"
   ]
  },
  {
   "cell_type": "code",
   "execution_count": 13,
   "id": "1a5f27db",
   "metadata": {},
   "outputs": [
    {
     "name": "stdout",
     "output_type": "stream",
     "text": [
      "Data Analysis: share tips & resources, ask questions, get help.\n"
     ]
    }
   ],
   "source": [
    "print(subreddit.title)"
   ]
  },
  {
   "cell_type": "code",
   "execution_count": 14,
   "id": "cb8c4632",
   "metadata": {
    "collapsed": true
   },
   "outputs": [
    {
     "name": "stdout",
     "output_type": "stream",
     "text": [
      "This is a place to discuss and post about data analysis. \n",
      "\n",
      "Rules:\n",
      "\n",
      "- Comments should remain civil and courteous.\n",
      "- All [reddit-wide rules](https://www.reddit.com/help/contentpolicy) apply here.\n",
      "- Do not post personal information.\n",
      "- No facebook or social media links.\n",
      "- Do not [spam](https://www.reddit.com/wiki/faq#wiki_what_constitutes_spam.3F).\n",
      "  - No 3rd party URL shorteners\n",
      "- Questions related to career entry go in the monthly megathread.\n",
      "  - [Announcement](https://old.reddit.com/r/dataanalysis/comments/10r5eve/announcement_limiting_posts_related_to_career/)\n",
      "  - [April 2023 thread](https://www.reddit.com/r/dataanalysis/comments/12av9m5/megathread_how_to_get_into_data_analysis/)\n",
      "\n",
      "Related Subs:\n",
      "\n",
      "* /r/DataScienceJobs \n",
      "* /r/machinelearning\n",
      "* /r/cscareerquestions \n",
      "* /r/cscareerquestionsEU \n",
      "* /r/statistics\n",
      "* /r/excel\n",
      "* /r/tableau \n",
      "* /r/rstats\n",
      "* /r/Python \n",
      "* /r/matlab\n",
      "* /r/octave\n",
      "* /r/datasets\n"
     ]
    }
   ],
   "source": [
    "print(subreddit.description)"
   ]
  },
  {
   "cell_type": "code",
   "execution_count": 15,
   "id": "17e2e22b",
   "metadata": {},
   "outputs": [
    {
     "data": {
      "text/plain": [
       "<praw.models.listing.generator.ListingGenerator at 0x1d9e9875ac0>"
      ]
     },
     "execution_count": 15,
     "metadata": {},
     "output_type": "execute_result"
    }
   ],
   "source": [
    "subreddit.new(limit=10)"
   ]
  },
  {
   "cell_type": "code",
   "execution_count": 36,
   "id": "57758f31",
   "metadata": {},
   "outputs": [
    {
     "name": "stdout",
     "output_type": "stream",
     "text": [
      "They set the Luas Ablaze\n"
     ]
    }
   ],
   "source": [
    "for post in subreddit.new(limit=1000):\n",
    "    if (\"Luas\" in post.title):\n",
    "        print(post.title)"
   ]
  },
  {
   "cell_type": "code",
   "execution_count": 17,
   "id": "86bad961",
   "metadata": {
    "collapsed": true
   },
   "outputs": [
    {
     "name": "stdout",
     "output_type": "stream",
     "text": [
      "Want to become an analyst? Start here.\n",
      "Got a job :)\n",
      "The very exhaustive diagram of job seeking experience of a guy with Google Data Analytics certificate and a couple of years of slightly related experience\n",
      "Help! My first data job is ruining me!\n",
      "I finally gave up\n",
      "SQL roadmap, things you should know\n",
      "Just got my first job after transitioning to Data Analysis!\n",
      "Google Apprenticeship Response from Google 2022\n",
      "I started the Google Data Analytics course on July 26th. I got a job offer yesterday. Here’s how I did it.\n",
      "I gave up on data analyst career - You can too!\n"
     ]
    }
   ],
   "source": [
    "for post in subreddit.top(limit=10):\n",
    "    print(post.title)"
   ]
  },
  {
   "cell_type": "code",
   "execution_count": 18,
   "id": "60d8690e",
   "metadata": {
    "collapsed": true
   },
   "outputs": [
    {
     "name": "stdout",
     "output_type": "stream",
     "text": [
      "Can you rate my presentation before I submit it? (Beginner; roast away)\n",
      "Would you like alpha test a new data analyst mock interview app?\n",
      "About advanced DAX\n",
      "Zero Division Error in Likes/Dislikes Ratio of YouTube Data\n",
      "I made a 5-minute video on how to create a DYNAMIC MAP in Excel using slicers!\n",
      "I shared a Data Analysis Project video on YouTube, also shared the dataset in description\n",
      "Can soft skills be learned through courses ?\n",
      "Help me please my data analysis career depends on that\n"
     ]
    }
   ],
   "source": [
    "for post in subreddit.rising(limit=10):\n",
    "    print(post.title)"
   ]
  },
  {
   "cell_type": "code",
   "execution_count": 20,
   "id": "d26a0688",
   "metadata": {
    "collapsed": true
   },
   "outputs": [
    {
     "name": "stdout",
     "output_type": "stream",
     "text": [
      "*********************\n",
      "Can you rate my presentation before I submit it? (Beginner; roast away)\n",
      "My quick initial thoughts. The color and backgrounds distract me from what I think I should be looking at. I think the fonts should probably stay the same.\n",
      "1701072656.0\n",
      "2023-11-27 08:10:56\n",
      "-------------------\n",
      "Calm down those colours, make it friendly to see (imagine being colour blind are watching this.\n",
      "\n",
      "The message should give insights and stories, not just numbers.\n",
      "\n",
      "Make it simple.\n",
      "\n",
      "Make it concrete\n",
      "1701073565.0\n",
      "2023-11-27 08:26:05\n",
      "-------------------\n",
      "The colour is giving me acid trips\n",
      "1701074059.0\n",
      "2023-11-27 08:34:19\n",
      "-------------------\n",
      "Data analysis should give more insight than min/max\n",
      "1701073143.0\n",
      "2023-11-27 08:19:03\n",
      "-------------------\n",
      "What’s the purpose of your presentation and who is your audience? I would add excel formulas and sql queries only if my audience is a group of people that want to learn sql and excel, otherwise just use a diagram to highlight your data processing phase and charts (not table!) to show your results.\n",
      "1701077192.0\n",
      "2023-11-27 09:26:32\n",
      "-------------------\n",
      "I'm also beginner and I haven't done any of those presentations yet.\n",
      "\n",
      "But one thing that trouble me is the choice of color. I couldn't focus on anything.\n",
      "1701074680.0\n",
      "2023-11-27 08:44:40\n",
      "-------------------\n",
      "This presentation is entirely illegible.\n",
      "1701086251.0\n",
      "2023-11-27 11:57:31\n",
      "-------------------\n",
      "Too much colors and words, use single color backgrounds and only keywords and big pics on the slide, in current state people will either listen or read\n",
      "1701080288.0\n",
      "2023-11-27 10:18:08\n",
      "-------------------\n",
      "Utilize the accessibility options and color schemes available to you. You never know when you may be presenting to someone who is colorblind or has some other form of disability which with those colors/fonts would be difficult to read and interpret.\n",
      "1701082354.0\n",
      "2023-11-27 10:52:34\n",
      "-------------------\n",
      "Like I said in the title I’m a beginner so feel free to roast me. I appreciate any comments because I need to get better. I have a background in art and design so I included that element in my presentation. This project was rushed, took me about 4-5 days so the analysis might have some inconsistencies. Lmk what you think and how I can improve my work. Thank you\n",
      "1701071832.0\n",
      "2023-11-27 07:57:12\n",
      "-------------------\n",
      "is this for... a high school report? like, whos the audience?\n",
      "1701085207.0\n",
      "2023-11-27 11:40:07\n",
      "-------------------\n",
      "I don't know if you know this but Microsoft Word Online has some impressive designs. You copy the content of your presentation to a Word sheet as if you're writing an essay, then click on export. It will prompt you to export it as a ppt. It will give you some impressive designs, then you can edit where necessary. Its free.\n",
      "1701076028.0\n",
      "2023-11-27 09:07:08\n",
      "-------------------\n",
      "The design should maximize legibility with ease of comprehension. The graphics don't add value in this case. Investors would want to see data more than the \"advertising\" style of graphics. This would actually make the presentation look \"boring,\" but that actually accentuates what is important to investors.  \n",
      "\n",
      "\n",
      "\\- Don't use more than two different font styles. For this preso, limit to one style that has a wide variant - extra bold, bold, medium, thing... etc.\n",
      "\n",
      "\\- Remove the background - tough to read text. Instead maybe use a header or footer text or logo.\n",
      "\n",
      "\\- After removing the background, remove the background highlight.\n",
      "\n",
      "\\- Left justify paragraphs only. Centered paragraph text is very difficult to read quickly.\n",
      "\n",
      "\\- Use block quotes without the graphics ( bubble, dude talking, etc ).\n",
      "1701082614.0\n",
      "2023-11-27 10:56:54\n",
      "-------------------\n",
      "Due to colors choice and background images, i kept getting distracted towards things that dont have any value in presentation\n",
      "You need to make people focus on things you want them to see and understand. Make it as simple as possible but rich in information\n",
      "1701086625.0\n",
      "2023-11-27 12:03:45\n",
      "-------------------\n",
      "The presentation shouldn't just look like a work of art; it also has to convey information. However, in your presentation, it's challenging to focus on important text and grasp the useful insights you want to represent. Make sure to use the background and colors to complement the content without overwhelming it.\n",
      "1701089699.0\n",
      "2023-11-27 12:54:59\n",
      "-------------------\n",
      "As others have said would tone down colors.\n",
      "\n",
      "- would create some.sort.of visualization instead of tables.  If you're going to include tables highlight the insights and use the headline to call them out in a manner-of-speaking  way\n",
      "\n",
      "- would pull up the summary to the beginning of the presentation and try to tie the insights together a bit, e.g. the US has the highest number of unicorns potentially driven by concentration of tech companies\n",
      "\n",
      "- move process slides to appendix if questions come up\n",
      "\n",
      "- would rephrase the objectives so they read as actual objectives\n",
      "\n",
      "All in all though good work!\n",
      "1701091284.0\n",
      "2023-11-27 13:21:24\n",
      "-------------------\n",
      "Powerpoint basics make it readable no more than 25 words per slide make your charts and dashboards simple and easy to understand- this is not , highlight what your findings are don’t include complicated SQL topics. Use a template where you can read the words. You may want to get some help from your senior analyst because this needs some work.\n",
      "1701092683.0\n",
      "2023-11-27 13:44:43\n",
      "-------------------\n",
      "*********************\n",
      "About advanced DAX\n",
      "*********************\n",
      "Would you like alpha test a new data analyst mock interview app?\n",
      "$200/hour and I'll do it.\n",
      "1701066251.0\n",
      "2023-11-27 06:24:11\n",
      "-------------------\n",
      "I’m interested!\n",
      "1701048638.0\n",
      "2023-11-27 01:30:38\n",
      "-------------------\n",
      "I'm interested\n",
      "1701049533.0\n",
      "2023-11-27 01:45:33\n",
      "-------------------\n",
      "Interested!\n",
      "1701049776.0\n",
      "2023-11-27 01:49:36\n",
      "-------------------\n",
      "I’m interested\n",
      "1701050168.0\n",
      "2023-11-27 01:56:08\n",
      "-------------------\n",
      "Sure\n",
      "1701050527.0\n",
      "2023-11-27 02:02:07\n",
      "-------------------\n",
      "Hey there, I'm interested! :)\n",
      "1701050636.0\n",
      "2023-11-27 02:03:56\n",
      "-------------------\n",
      "I'm interested!\n",
      "1701050663.0\n",
      "2023-11-27 02:04:23\n",
      "-------------------\n",
      "I'm interested!\n",
      "1701051227.0\n",
      "2023-11-27 02:13:47\n",
      "-------------------\n",
      "Interested!\n",
      "1701051472.0\n",
      "2023-11-27 02:17:52\n",
      "-------------------\n",
      "Yessir!!\n",
      "1701051477.0\n",
      "2023-11-27 02:17:57\n",
      "-------------------\n",
      "Interested\n",
      "1701051722.0\n",
      "2023-11-27 02:22:02\n",
      "-------------------\n",
      "Interested\n",
      "1701052373.0\n",
      "2023-11-27 02:32:53\n",
      "-------------------\n",
      "Interested!\n",
      "1701052544.0\n",
      "2023-11-27 02:35:44\n",
      "-------------------\n",
      "Interested !\n",
      "1701053866.0\n",
      "2023-11-27 02:57:46\n",
      "-------------------\n",
      "Interested!\n",
      "1701054330.0\n",
      "2023-11-27 03:05:30\n",
      "-------------------\n",
      "I am interested\n",
      "1701054884.0\n",
      "2023-11-27 03:14:44\n",
      "-------------------\n",
      "Interested!\n",
      "1701056586.0\n",
      "2023-11-27 03:43:06\n",
      "-------------------\n",
      "I'm interested\n",
      "1701057497.0\n",
      "2023-11-27 03:58:17\n",
      "-------------------\n",
      "Interested!\n",
      "1701057892.0\n",
      "2023-11-27 04:04:52\n",
      "-------------------\n",
      "Interested\n",
      "1701058101.0\n",
      "2023-11-27 04:08:21\n",
      "-------------------\n",
      "Interested\n",
      "1701058847.0\n",
      "2023-11-27 04:20:47\n",
      "-------------------\n",
      "Interested\n",
      "1701059287.0\n",
      "2023-11-27 04:28:07\n",
      "-------------------\n",
      "I’ll give it a try\n",
      "1701059830.0\n",
      "2023-11-27 04:37:10\n",
      "-------------------\n",
      "I'm interested!\n",
      "1701060365.0\n",
      "2023-11-27 04:46:05\n",
      "-------------------\n",
      "Hey I would love to participate\n",
      "1701060644.0\n",
      "2023-11-27 04:50:44\n",
      "-------------------\n",
      "I’d be interested!!\n",
      "1701061500.0\n",
      "2023-11-27 05:05:00\n",
      "-------------------\n",
      "Super interested!\n",
      "1701063314.0\n",
      "2023-11-27 05:35:14\n",
      "-------------------\n",
      "I’m Interested! This sounds promising.\n",
      "1701064435.0\n",
      "2023-11-27 05:53:55\n",
      "-------------------\n",
      "I am interested\n",
      "1701065443.0\n",
      "2023-11-27 06:10:43\n",
      "-------------------\n",
      "I’m interested\n",
      "1701066820.0\n",
      "2023-11-27 06:33:40\n",
      "-------------------\n",
      "How is this different from pramp.com?\n",
      "1701066851.0\n",
      "2023-11-27 06:34:11\n",
      "-------------------\n",
      "Interested\n",
      "1701070033.0\n",
      "2023-11-27 07:27:13\n",
      "-------------------\n",
      "Interested\n",
      "1701070867.0\n",
      "2023-11-27 07:41:07\n",
      "-------------------\n",
      "Interested\n",
      "1701072768.0\n",
      "2023-11-27 08:12:48\n",
      "-------------------\n",
      "I'm interested\n",
      "1701075144.0\n",
      "2023-11-27 08:52:24\n",
      "-------------------\n",
      "Interested\n",
      "1701080823.0\n",
      "2023-11-27 10:27:03\n",
      "-------------------\n",
      "Wow...I am interested.\n",
      "1701084391.0\n",
      "2023-11-27 11:26:31\n",
      "-------------------\n",
      "Hey, is there room for one more?\n",
      "1701086931.0\n",
      "2023-11-27 12:08:51\n",
      "-------------------\n",
      "*********************\n",
      "I made a 5-minute video on how to create a DYNAMIC MAP in Excel using slicers!\n"
     ]
    },
    {
     "name": "stdout",
     "output_type": "stream",
     "text": [
      "That thumbnail ensures I will never watch this video.\n",
      "1701021574.0\n",
      "2023-11-26 17:59:34\n",
      "-------------------\n",
      "*********************\n",
      "Zero Division Error in Likes/Dislikes Ratio of YouTube Data\n",
      "I think the easiest way to solve the division by zero problem is to just add 1 to the denominator. \n",
      "\n",
      "Likes / (Dislikes + 1)\n",
      "\n",
      "Use the same equation for all calculations of the metric not just the ones that have a zero. As long as the numerator is large enough, the number won't make a difference because 1 is so small. If the numerator was a smaller number, then you could just add  .1 instead of 1 so that the extra number is even less significant. But, in the context of number of likes, this should work just fine.\n",
      "\n",
      "Another idea is that you can try a different metric like:  \n",
      "Likes / (Likes+Dislikes)\n",
      "\n",
      "You said you're trying to measure engagement, so you might consider just using (Likes+Dislikes) instead of using a ratio. I would probably name it something like a measurement of 'reaction'... Whether it was positive or negative, did the user react to the video. Then, a better ratio would be the number of videos played divided by the reaction.\n",
      "1701047597.0\n",
      "2023-11-27 01:13:17\n",
      "-------------------\n",
      "Case when dislikes = 0 then null else dislikes end as dislikes\n",
      "\n",
      "You need to transform your data \n",
      "\n",
      "You can divide by null and it will ignore make the result be null as well \n",
      "\n",
      "There is a difference between nothing and zero it’s weird but it’s true\n",
      "1701067029.0\n",
      "2023-11-27 06:37:09\n",
      "-------------------\n",
      "*********************\n",
      "Help me please my data analysis career depends on that\n",
      "*********************\n",
      "Why did companies even hire many people in 2020-2022 only to lay em off now?\n",
      "*********************\n",
      "I shared a Data Analysis Project video on YouTube, also shared the dataset in description\n",
      "*********************\n",
      "Descriptive Statistics for Relationships\n",
      "The mean only tells you about the 'Central tendency' of each variable. You're losing a lot of information by only focusing on the mean. The correlation is a linear relationship between the two variables. But, the correlation doesn't tell the whole story either. \n",
      "\n",
      "Consider Anscombe quartet as a challenge to using a simple model like the mean and correlation to understand the data.\n",
      "\n",
      "https://en.wikipedia.org/wiki/Anscombe%27s_quartet\n",
      "\n",
      "4 data sets have completely different data but the same summary statistics.\n",
      "\n",
      "If that can be true, then what does it say about your methodology?\n",
      "\n",
      "I have no idea what problem you're working on, but if it is something meaningful or impactful on people's lives then It might be worth it to add more rigor to your methodology.\n",
      "1700941826.0\n",
      "2023-11-25 19:50:26\n",
      "-------------------\n",
      "*********************\n",
      "Can soft skills be learned through courses ?\n",
      "While this is career-entry related, I think this is an interesting question as many aspiring analysts seem surprised by the importance of communication skills. I’ll approve this and hope it spurs some discussion.\n",
      "1700935502.0\n",
      "2023-11-25 18:05:02\n",
      "-------------------\n",
      "I would look for some good business writing classes. Written communication is one of those crucial soft skills. I took a good one at a place I worked at a few years back. They teach you how to write more precisely and clearly. Someone posted an awful analysis for review yesterday in /dataanalysis.... I shouldn't have to read your write up multiple times to try to figure out what point your trying to make.\n",
      "\n",
      "The other big thing that I notice, is some people have kind of lived in a suburban bubble and they have a difficult time communicating with many people. For example, I told a colleague she should talk to one of our other colleagues about a certain topic because he's smart and really knows a lot. She told me that she would love to, but literally cannot understand what he's saying. He has an accent, but I understand this man perfectly fine. Definitely not even close to being some of the more difficult accents I've heard. Basically, don't isolate yourself in a bubble. It will hinder your development in more ways than you could imagine. This might be more helpful than most other soft skills courses you find.\n",
      "1700937963.0\n",
      "2023-11-25 18:46:03\n",
      "-------------------\n",
      "Soft skills are best learned through practice. I started out as your typical awkward nerd but having received guidance on how important this is, during uni:\n",
      "\n",
      "\\- I did 2 years of Toastmasters to get rid of my public speaking anxiety and learn to communicate concisely and to talk about numbers to people who were by their own admission \"not good with numbers\". My club did not allow Powerpoint so I had to use just words and maybe a one page handout and got immediate feedback if people understood what I said\n",
      "\n",
      "\\- I volunteered for the local Red Cross. I learned to communicate with more kindness, deescalate, coordinate with others under time pressure, and experienced forgetting about myself because my attention was focused so much on what others need that there was no GPU left for worrying what they think about me and how I come across. My social anxiety was never as bad as some people's but this experience pretty much cured it.\n",
      "\n",
      "\\- I joined 2 clubs and challenged myself to be the person who reaches out to potential external sponsors or guest speakers for these clubs. This was all at a very low level ($500 sponsorship from a small local business) and because of the low stakes, it was easier to not stress that much about it.\n",
      "\n",
      "\\- I watched a lot of comedy standups and TED Talks trying to deconstruct what makes them work.\n",
      "\n",
      "I couldn't put that last one on my resume but I could include the first three, signaling my soft skills to potential employers, and it probably helped because I found my first analyst job in a month, without any connections, when many people who graduated at the same time had a more challenging journey.\n",
      "1700948063.0\n",
      "2023-11-25 21:34:23\n",
      "-------------------\n",
      "Coming from academia, I think soft skills were often overlooked although in my last institute there was a soft skills course offered to PhD students.\n",
      "\n",
      "I'm not familiar with any courses marketed as soft skills online (or offline for that matter) like the one you mentioned. Could be interesting to see.\n",
      "\n",
      "However, and to me personally soft skills translate mainly into communication and confidence. And for that I think you need to put yourself out there and get feedbacks to grow from. Not only I could allow myself more growth as a scientist from the feedbacks I got when presenting data. But getting feedbacks on the way I communicate my science helped me present it better and even sharpen the way I think and plan my research. \n",
      "\n",
      "Lastly I think you should look for your weak spots and address them directly. just like this post, but go deeper! What kind of skills do you consider as soft skills you wish to improve?\n",
      "1700940017.0\n",
      "2023-11-25 19:20:17\n",
      "-------------------\n",
      "The best way to learn “soft skills” is by doing and failing. \n",
      "\n",
      "This can include:\n",
      "\n",
      "- doing an activity that gets you out of your comfort zone \n",
      "- asking for feedback \n",
      "- trying to pinpoint what you want to work on and having a goal\n",
      "1700940969.0\n",
      "2023-11-25 19:36:09\n",
      "-------------------\n",
      "Yes, but it has to be a practical course. You have to go present, role play scenarios, etc.\n",
      "1700943622.0\n",
      "2023-11-25 20:20:22\n",
      "-------------------\n",
      "If you are one of those awkward geeks who doesn’t know how to talk to people, you should learn how. If your relatively normal, you should be fine.\n",
      "1700943713.0\n",
      "2023-11-25 20:21:53\n",
      "-------------------\n",
      "I don’t think so, staring at a computer screen doesn’t teach you how to speak to people. I landed my first role with no degree mostly through soft skills so it’s not impossible\n",
      "1700959941.0\n",
      "2023-11-26 00:52:21\n",
      "-------------------\n",
      " No\n",
      "1700942515.0\n",
      "2023-11-25 20:01:55\n",
      "-------------------\n",
      "Is Toastmasters still around? If so, that might be worth looking into.\n",
      "1700948256.0\n",
      "2023-11-25 21:37:36\n",
      "-------------------\n",
      "I think in person courses yeah. Like public speaking or something involved with communication, probably. Then just practicing amongst your peers at school or work. Yeah I think you can learn them.\n",
      "1700978522.0\n",
      "2023-11-26 06:02:02\n",
      "-------------------\n",
      "Yea\n",
      "1700965344.0\n",
      "2023-11-26 02:22:24\n",
      "-------------------\n"
     ]
    }
   ],
   "source": [
    "for post in subreddit.new(limit=10):\n",
    "    print(\"*********************\")\n",
    "    print(post.title)\n",
    "    for comment in list(post.comments):\n",
    "        print(comment.body)\n",
    "        print(comment.created_utc)\n",
    "        print(dt.fromtimestamp(comment.created_utc))\n",
    "        print(\"-------------------\")"
   ]
  },
  {
   "cell_type": "code",
   "execution_count": 21,
   "id": "1aa6a02a",
   "metadata": {},
   "outputs": [],
   "source": [
    "postTitles = []\n",
    "postTimes = []\n",
    "for post in subreddit.new(limit=100):\n",
    "    postTitles.append(post.title)\n",
    "    postTimes.append(dt.fromtimestamp(post.created_utc))"
   ]
  },
  {
   "cell_type": "code",
   "execution_count": 22,
   "id": "4df7d551",
   "metadata": {},
   "outputs": [],
   "source": [
    "post_df = pd.DataFrame({\n",
    "    \"Post\": postTitles,\n",
    "    \"Time\": postTimes\n",
    "})"
   ]
  },
  {
   "cell_type": "code",
   "execution_count": 23,
   "id": "8f1c77b0",
   "metadata": {},
   "outputs": [
    {
     "data": {
      "text/html": [
       "<div>\n",
       "<style scoped>\n",
       "    .dataframe tbody tr th:only-of-type {\n",
       "        vertical-align: middle;\n",
       "    }\n",
       "\n",
       "    .dataframe tbody tr th {\n",
       "        vertical-align: top;\n",
       "    }\n",
       "\n",
       "    .dataframe thead th {\n",
       "        text-align: right;\n",
       "    }\n",
       "</style>\n",
       "<table border=\"1\" class=\"dataframe\">\n",
       "  <thead>\n",
       "    <tr style=\"text-align: right;\">\n",
       "      <th></th>\n",
       "      <th>Post</th>\n",
       "      <th>Time</th>\n",
       "    </tr>\n",
       "  </thead>\n",
       "  <tbody>\n",
       "    <tr>\n",
       "      <th>0</th>\n",
       "      <td>Can you rate my presentation before I submit i...</td>\n",
       "      <td>2023-11-27 07:52:56</td>\n",
       "    </tr>\n",
       "    <tr>\n",
       "      <th>1</th>\n",
       "      <td>About advanced DAX</td>\n",
       "      <td>2023-11-26 22:39:01</td>\n",
       "    </tr>\n",
       "    <tr>\n",
       "      <th>2</th>\n",
       "      <td>Would you like alpha test a new data analyst m...</td>\n",
       "      <td>2023-11-26 22:01:10</td>\n",
       "    </tr>\n",
       "    <tr>\n",
       "      <th>3</th>\n",
       "      <td>I made a 5-minute video on how to create a DYN...</td>\n",
       "      <td>2023-11-26 17:52:36</td>\n",
       "    </tr>\n",
       "    <tr>\n",
       "      <th>4</th>\n",
       "      <td>Zero Division Error in Likes/Dislikes Ratio of...</td>\n",
       "      <td>2023-11-26 13:23:42</td>\n",
       "    </tr>\n",
       "  </tbody>\n",
       "</table>\n",
       "</div>"
      ],
      "text/plain": [
       "                                                Post                Time\n",
       "0  Can you rate my presentation before I submit i... 2023-11-27 07:52:56\n",
       "1                                 About advanced DAX 2023-11-26 22:39:01\n",
       "2  Would you like alpha test a new data analyst m... 2023-11-26 22:01:10\n",
       "3  I made a 5-minute video on how to create a DYN... 2023-11-26 17:52:36\n",
       "4  Zero Division Error in Likes/Dislikes Ratio of... 2023-11-26 13:23:42"
      ]
     },
     "execution_count": 23,
     "metadata": {},
     "output_type": "execute_result"
    }
   ],
   "source": [
    "post_df.head()"
   ]
  },
  {
   "cell_type": "code",
   "execution_count": 26,
   "id": "a2e01bb9",
   "metadata": {
    "collapsed": true
   },
   "outputs": [
    {
     "name": "stderr",
     "output_type": "stream",
     "text": [
      "C:\\Users\\Lecturer\\AppData\\Local\\Temp\\ipykernel_15488\\1843319635.py:1: FutureWarning: Treating datetime data as categorical rather than numeric in `.describe` is deprecated and will be removed in a future version of pandas. Specify `datetime_is_numeric=True` to silence this warning and adopt the future behavior now.\n",
      "  post_df.describe()\n"
     ]
    },
    {
     "data": {
      "text/html": [
       "<div>\n",
       "<style scoped>\n",
       "    .dataframe tbody tr th:only-of-type {\n",
       "        vertical-align: middle;\n",
       "    }\n",
       "\n",
       "    .dataframe tbody tr th {\n",
       "        vertical-align: top;\n",
       "    }\n",
       "\n",
       "    .dataframe thead th {\n",
       "        text-align: right;\n",
       "    }\n",
       "</style>\n",
       "<table border=\"1\" class=\"dataframe\">\n",
       "  <thead>\n",
       "    <tr style=\"text-align: right;\">\n",
       "      <th></th>\n",
       "      <th>Post</th>\n",
       "      <th>Time</th>\n",
       "    </tr>\n",
       "  </thead>\n",
       "  <tbody>\n",
       "    <tr>\n",
       "      <th>count</th>\n",
       "      <td>100</td>\n",
       "      <td>100</td>\n",
       "    </tr>\n",
       "    <tr>\n",
       "      <th>unique</th>\n",
       "      <td>100</td>\n",
       "      <td>100</td>\n",
       "    </tr>\n",
       "    <tr>\n",
       "      <th>top</th>\n",
       "      <td>Can you rate my presentation before I submit i...</td>\n",
       "      <td>2023-11-27 07:52:56</td>\n",
       "    </tr>\n",
       "    <tr>\n",
       "      <th>freq</th>\n",
       "      <td>1</td>\n",
       "      <td>1</td>\n",
       "    </tr>\n",
       "    <tr>\n",
       "      <th>first</th>\n",
       "      <td>NaN</td>\n",
       "      <td>2023-11-13 14:22:37</td>\n",
       "    </tr>\n",
       "    <tr>\n",
       "      <th>last</th>\n",
       "      <td>NaN</td>\n",
       "      <td>2023-11-27 07:52:56</td>\n",
       "    </tr>\n",
       "  </tbody>\n",
       "</table>\n",
       "</div>"
      ],
      "text/plain": [
       "                                                     Post                 Time\n",
       "count                                                 100                  100\n",
       "unique                                                100                  100\n",
       "top     Can you rate my presentation before I submit i...  2023-11-27 07:52:56\n",
       "freq                                                    1                    1\n",
       "first                                                 NaN  2023-11-13 14:22:37\n",
       "last                                                  NaN  2023-11-27 07:52:56"
      ]
     },
     "execution_count": 26,
     "metadata": {},
     "output_type": "execute_result"
    }
   ],
   "source": [
    "post_df.describe()"
   ]
  },
  {
   "cell_type": "code",
   "execution_count": 27,
   "id": "c2d16f73",
   "metadata": {},
   "outputs": [
    {
     "data": {
      "text/plain": [
       "(100, 2)"
      ]
     },
     "execution_count": 27,
     "metadata": {},
     "output_type": "execute_result"
    }
   ],
   "source": [
    "post_df.shape"
   ]
  },
  {
   "cell_type": "code",
   "execution_count": 32,
   "id": "d6a8a9cd",
   "metadata": {},
   "outputs": [],
   "source": [
    "post_df.to_csv(\"Reddit r-dataanalysis Posts.csv\", index=False)"
   ]
  },
  {
   "cell_type": "code",
   "execution_count": 31,
   "id": "7f75632e",
   "metadata": {},
   "outputs": [],
   "source": [
    "post_df.to_csv(\"Reddit r-dataanalysis Posts with Index.csv\", index=True)"
   ]
  },
  {
   "cell_type": "code",
   "execution_count": null,
   "id": "94e17e8c",
   "metadata": {},
   "outputs": [],
   "source": []
  }
 ],
 "metadata": {
  "kernelspec": {
   "display_name": "Python 3 (ipykernel)",
   "language": "python",
   "name": "python3"
  },
  "language_info": {
   "codemirror_mode": {
    "name": "ipython",
    "version": 3
   },
   "file_extension": ".py",
   "mimetype": "text/x-python",
   "name": "python",
   "nbconvert_exporter": "python",
   "pygments_lexer": "ipython3",
   "version": "3.9.12"
  }
 },
 "nbformat": 4,
 "nbformat_minor": 5
}
